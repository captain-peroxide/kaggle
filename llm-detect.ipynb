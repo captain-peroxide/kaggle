{
 "cells": [
  {
   "cell_type": "code",
   "execution_count": 1,
   "id": "38233fc4",
   "metadata": {
    "_cell_guid": "b1076dfc-b9ad-4769-8c92-a6c4dae69d19",
    "_uuid": "8f2839f25d086af736a60e9eeb907d3b93b6e0e5",
    "execution": {
     "iopub.execute_input": "2023-12-28T19:30:01.843799Z",
     "iopub.status.busy": "2023-12-28T19:30:01.842901Z",
     "iopub.status.idle": "2023-12-28T19:30:19.477765Z",
     "shell.execute_reply": "2023-12-28T19:30:19.476979Z"
    },
    "papermill": {
     "duration": 17.647099,
     "end_time": "2023-12-28T19:30:19.480035",
     "exception": false,
     "start_time": "2023-12-28T19:30:01.832936",
     "status": "completed"
    },
    "tags": []
   },
   "outputs": [
    {
     "name": "stderr",
     "output_type": "stream",
     "text": [
      "/opt/conda/lib/python3.10/site-packages/scipy/__init__.py:146: UserWarning: A NumPy version >=1.16.5 and <1.23.0 is required for this version of SciPy (detected version 1.24.3\n",
      "  warnings.warn(f\"A NumPy version >={np_minversion} and <{np_maxversion}\"\n"
     ]
    }
   ],
   "source": [
    "import pandas as pd\n",
    "import numpy as np\n",
    "import seaborn as sns\n",
    "import matplotlib.pyplot as plt\n",
    "from sklearn.metrics import accuracy_score, classification_report\n",
    "from transformers import BertTokenizer, BertForSequenceClassification, AdamW\n",
    "import torch\n",
    "from sklearn.model_selection import train_test_split\n",
    "from torch.utils.data import DataLoader, TensorDataset, random_split\n",
    "\n",
    "\n",
    "\n",
    "import tensorflow as tf\n",
    "import keras\n",
    "from tensorflow.keras.preprocessing.text import Tokenizer\n",
    "from tensorflow.keras.preprocessing.sequence import pad_sequences\n",
    "from tensorflow.keras.utils import to_categorical\n",
    "from tensorflow.keras.models import Sequential, Model\n",
    "from tensorflow.keras import layers\n",
    "from tensorflow.keras.layers import Reshape,Embedding, Layer, Dense, Dropout, MultiHeadAttention, LayerNormalization, Input, GlobalAveragePooling1D,UpSampling1D\n",
    "from tensorflow.keras.layers import LSTM, Bidirectional\n",
    "from tensorflow.keras.callbacks import ModelCheckpoint, EarlyStopping, ReduceLROnPlateau\n",
    "\n",
    "\n",
    "df_essay = pd.read_csv(\"/kaggle/input/llm-detect-ai-generated-text/train_essays.csv\")\n",
    "df_prompt = pd.read_csv(\"/kaggle/input/llm-detect-ai-generated-text/train_prompts.csv\")\n",
    "test1 = pd.read_csv(\"/kaggle/input/llm-detect-ai-generated-text/test_essays.csv\")"
   ]
  },
  {
   "cell_type": "code",
   "execution_count": 2,
   "id": "31587c1e",
   "metadata": {
    "execution": {
     "iopub.execute_input": "2023-12-28T19:30:19.496656Z",
     "iopub.status.busy": "2023-12-28T19:30:19.496342Z",
     "iopub.status.idle": "2023-12-28T19:30:19.512595Z",
     "shell.execute_reply": "2023-12-28T19:30:19.511640Z"
    },
    "papermill": {
     "duration": 0.026813,
     "end_time": "2023-12-28T19:30:19.514654",
     "exception": false,
     "start_time": "2023-12-28T19:30:19.487841",
     "status": "completed"
    },
    "tags": []
   },
   "outputs": [
    {
     "data": {
      "text/html": [
       "<div>\n",
       "<style scoped>\n",
       "    .dataframe tbody tr th:only-of-type {\n",
       "        vertical-align: middle;\n",
       "    }\n",
       "\n",
       "    .dataframe tbody tr th {\n",
       "        vertical-align: top;\n",
       "    }\n",
       "\n",
       "    .dataframe thead th {\n",
       "        text-align: right;\n",
       "    }\n",
       "</style>\n",
       "<table border=\"1\" class=\"dataframe\">\n",
       "  <thead>\n",
       "    <tr style=\"text-align: right;\">\n",
       "      <th></th>\n",
       "      <th>id</th>\n",
       "      <th>prompt_id</th>\n",
       "      <th>text</th>\n",
       "      <th>generated</th>\n",
       "    </tr>\n",
       "  </thead>\n",
       "  <tbody>\n",
       "    <tr>\n",
       "      <th>0</th>\n",
       "      <td>0059830c</td>\n",
       "      <td>0</td>\n",
       "      <td>Cars. Cars have been around since they became ...</td>\n",
       "      <td>0</td>\n",
       "    </tr>\n",
       "    <tr>\n",
       "      <th>1</th>\n",
       "      <td>005db917</td>\n",
       "      <td>0</td>\n",
       "      <td>Transportation is a large necessity in most co...</td>\n",
       "      <td>0</td>\n",
       "    </tr>\n",
       "    <tr>\n",
       "      <th>2</th>\n",
       "      <td>008f63e3</td>\n",
       "      <td>0</td>\n",
       "      <td>\"America's love affair with it's vehicles seem...</td>\n",
       "      <td>0</td>\n",
       "    </tr>\n",
       "    <tr>\n",
       "      <th>3</th>\n",
       "      <td>00940276</td>\n",
       "      <td>0</td>\n",
       "      <td>How often do you ride in a car? Do you drive a...</td>\n",
       "      <td>0</td>\n",
       "    </tr>\n",
       "    <tr>\n",
       "      <th>4</th>\n",
       "      <td>00c39458</td>\n",
       "      <td>0</td>\n",
       "      <td>Cars are a wonderful thing. They are perhaps o...</td>\n",
       "      <td>0</td>\n",
       "    </tr>\n",
       "  </tbody>\n",
       "</table>\n",
       "</div>"
      ],
      "text/plain": [
       "         id  prompt_id                                               text  \\\n",
       "0  0059830c          0  Cars. Cars have been around since they became ...   \n",
       "1  005db917          0  Transportation is a large necessity in most co...   \n",
       "2  008f63e3          0  \"America's love affair with it's vehicles seem...   \n",
       "3  00940276          0  How often do you ride in a car? Do you drive a...   \n",
       "4  00c39458          0  Cars are a wonderful thing. They are perhaps o...   \n",
       "\n",
       "   generated  \n",
       "0          0  \n",
       "1          0  \n",
       "2          0  \n",
       "3          0  \n",
       "4          0  "
      ]
     },
     "execution_count": 2,
     "metadata": {},
     "output_type": "execute_result"
    }
   ],
   "source": [
    "df_essay.head()"
   ]
  },
  {
   "cell_type": "code",
   "execution_count": 3,
   "id": "833de99f",
   "metadata": {
    "execution": {
     "iopub.execute_input": "2023-12-28T19:30:19.532625Z",
     "iopub.status.busy": "2023-12-28T19:30:19.532263Z",
     "iopub.status.idle": "2023-12-28T19:30:19.542240Z",
     "shell.execute_reply": "2023-12-28T19:30:19.541350Z"
    },
    "papermill": {
     "duration": 0.02197,
     "end_time": "2023-12-28T19:30:19.544289",
     "exception": false,
     "start_time": "2023-12-28T19:30:19.522319",
     "status": "completed"
    },
    "tags": []
   },
   "outputs": [
    {
     "data": {
      "text/html": [
       "<div>\n",
       "<style scoped>\n",
       "    .dataframe tbody tr th:only-of-type {\n",
       "        vertical-align: middle;\n",
       "    }\n",
       "\n",
       "    .dataframe tbody tr th {\n",
       "        vertical-align: top;\n",
       "    }\n",
       "\n",
       "    .dataframe thead th {\n",
       "        text-align: right;\n",
       "    }\n",
       "</style>\n",
       "<table border=\"1\" class=\"dataframe\">\n",
       "  <thead>\n",
       "    <tr style=\"text-align: right;\">\n",
       "      <th></th>\n",
       "      <th>prompt_id</th>\n",
       "      <th>prompt_name</th>\n",
       "      <th>instructions</th>\n",
       "      <th>source_text</th>\n",
       "    </tr>\n",
       "  </thead>\n",
       "  <tbody>\n",
       "    <tr>\n",
       "      <th>0</th>\n",
       "      <td>0</td>\n",
       "      <td>Car-free cities</td>\n",
       "      <td>Write an explanatory essay to inform fellow ci...</td>\n",
       "      <td># In German Suburb, Life Goes On Without Cars ...</td>\n",
       "    </tr>\n",
       "    <tr>\n",
       "      <th>1</th>\n",
       "      <td>1</td>\n",
       "      <td>Does the electoral college work?</td>\n",
       "      <td>Write a letter to your state senator in which ...</td>\n",
       "      <td># What Is the Electoral College? by the Office...</td>\n",
       "    </tr>\n",
       "  </tbody>\n",
       "</table>\n",
       "</div>"
      ],
      "text/plain": [
       "   prompt_id                       prompt_name  \\\n",
       "0          0                   Car-free cities   \n",
       "1          1  Does the electoral college work?   \n",
       "\n",
       "                                        instructions  \\\n",
       "0  Write an explanatory essay to inform fellow ci...   \n",
       "1  Write a letter to your state senator in which ...   \n",
       "\n",
       "                                         source_text  \n",
       "0  # In German Suburb, Life Goes On Without Cars ...  \n",
       "1  # What Is the Electoral College? by the Office...  "
      ]
     },
     "execution_count": 3,
     "metadata": {},
     "output_type": "execute_result"
    }
   ],
   "source": [
    "df_prompt.head()"
   ]
  },
  {
   "cell_type": "code",
   "execution_count": 4,
   "id": "134c70e2",
   "metadata": {
    "execution": {
     "iopub.execute_input": "2023-12-28T19:30:19.563049Z",
     "iopub.status.busy": "2023-12-28T19:30:19.562649Z",
     "iopub.status.idle": "2023-12-28T19:30:21.459321Z",
     "shell.execute_reply": "2023-12-28T19:30:21.458048Z"
    },
    "papermill": {
     "duration": 1.909218,
     "end_time": "2023-12-28T19:30:21.462448",
     "exception": false,
     "start_time": "2023-12-28T19:30:19.553230",
     "status": "completed"
    },
    "tags": []
   },
   "outputs": [
    {
     "name": "stdout",
     "output_type": "stream",
     "text": [
      "<class 'pandas.core.frame.DataFrame'>\n",
      "RangeIndex: 44868 entries, 0 to 44867\n",
      "Data columns (total 5 columns):\n",
      " #   Column         Non-Null Count  Dtype \n",
      "---  ------         --------------  ----- \n",
      " 0   text           44868 non-null  object\n",
      " 1   generated      44868 non-null  int64 \n",
      " 2   prompt_name    44868 non-null  object\n",
      " 3   source         44868 non-null  object\n",
      " 4   RDizzl3_seven  44868 non-null  bool  \n",
      "dtypes: bool(1), int64(1), object(3)\n",
      "memory usage: 1.4+ MB\n"
     ]
    }
   ],
   "source": [
    "df_train_essays_ext = pd.read_csv('/kaggle/input/new-data/train_v2_drcat_02.csv')\n",
    "\n",
    "df_train_essays_ext.rename(columns = {\"label\":\"generated\"}, inplace=True)\n",
    "\n",
    "df_train_essays_ext.info()"
   ]
  },
  {
   "cell_type": "code",
   "execution_count": 5,
   "id": "ec5542c7",
   "metadata": {
    "execution": {
     "iopub.execute_input": "2023-12-28T19:30:21.492217Z",
     "iopub.status.busy": "2023-12-28T19:30:21.490844Z",
     "iopub.status.idle": "2023-12-28T19:30:21.509764Z",
     "shell.execute_reply": "2023-12-28T19:30:21.508421Z"
    },
    "papermill": {
     "duration": 0.037609,
     "end_time": "2023-12-28T19:30:21.512804",
     "exception": false,
     "start_time": "2023-12-28T19:30:21.475195",
     "status": "completed"
    },
    "tags": []
   },
   "outputs": [
    {
     "data": {
      "text/html": [
       "<div>\n",
       "<style scoped>\n",
       "    .dataframe tbody tr th:only-of-type {\n",
       "        vertical-align: middle;\n",
       "    }\n",
       "\n",
       "    .dataframe tbody tr th {\n",
       "        vertical-align: top;\n",
       "    }\n",
       "\n",
       "    .dataframe thead th {\n",
       "        text-align: right;\n",
       "    }\n",
       "</style>\n",
       "<table border=\"1\" class=\"dataframe\">\n",
       "  <thead>\n",
       "    <tr style=\"text-align: right;\">\n",
       "      <th></th>\n",
       "      <th>text</th>\n",
       "      <th>generated</th>\n",
       "      <th>prompt_name</th>\n",
       "      <th>source</th>\n",
       "      <th>RDizzl3_seven</th>\n",
       "    </tr>\n",
       "  </thead>\n",
       "  <tbody>\n",
       "    <tr>\n",
       "      <th>0</th>\n",
       "      <td>Phones\\n\\nModern humans today are always on th...</td>\n",
       "      <td>0</td>\n",
       "      <td>Phones and driving</td>\n",
       "      <td>persuade_corpus</td>\n",
       "      <td>False</td>\n",
       "    </tr>\n",
       "    <tr>\n",
       "      <th>1</th>\n",
       "      <td>This essay will explain if drivers should or s...</td>\n",
       "      <td>0</td>\n",
       "      <td>Phones and driving</td>\n",
       "      <td>persuade_corpus</td>\n",
       "      <td>False</td>\n",
       "    </tr>\n",
       "    <tr>\n",
       "      <th>2</th>\n",
       "      <td>Driving while the use of cellular devices\\n\\nT...</td>\n",
       "      <td>0</td>\n",
       "      <td>Phones and driving</td>\n",
       "      <td>persuade_corpus</td>\n",
       "      <td>False</td>\n",
       "    </tr>\n",
       "    <tr>\n",
       "      <th>3</th>\n",
       "      <td>Phones &amp; Driving\\n\\nDrivers should not be able...</td>\n",
       "      <td>0</td>\n",
       "      <td>Phones and driving</td>\n",
       "      <td>persuade_corpus</td>\n",
       "      <td>False</td>\n",
       "    </tr>\n",
       "    <tr>\n",
       "      <th>4</th>\n",
       "      <td>Cell Phone Operation While Driving\\n\\nThe abil...</td>\n",
       "      <td>0</td>\n",
       "      <td>Phones and driving</td>\n",
       "      <td>persuade_corpus</td>\n",
       "      <td>False</td>\n",
       "    </tr>\n",
       "  </tbody>\n",
       "</table>\n",
       "</div>"
      ],
      "text/plain": [
       "                                                text  generated  \\\n",
       "0  Phones\\n\\nModern humans today are always on th...          0   \n",
       "1  This essay will explain if drivers should or s...          0   \n",
       "2  Driving while the use of cellular devices\\n\\nT...          0   \n",
       "3  Phones & Driving\\n\\nDrivers should not be able...          0   \n",
       "4  Cell Phone Operation While Driving\\n\\nThe abil...          0   \n",
       "\n",
       "          prompt_name           source  RDizzl3_seven  \n",
       "0  Phones and driving  persuade_corpus          False  \n",
       "1  Phones and driving  persuade_corpus          False  \n",
       "2  Phones and driving  persuade_corpus          False  \n",
       "3  Phones and driving  persuade_corpus          False  \n",
       "4  Phones and driving  persuade_corpus          False  "
      ]
     },
     "execution_count": 5,
     "metadata": {},
     "output_type": "execute_result"
    }
   ],
   "source": [
    "df_train_essays_ext.head()"
   ]
  },
  {
   "cell_type": "code",
   "execution_count": 6,
   "id": "1d69c9be",
   "metadata": {
    "execution": {
     "iopub.execute_input": "2023-12-28T19:30:21.534013Z",
     "iopub.status.busy": "2023-12-28T19:30:21.533036Z",
     "iopub.status.idle": "2023-12-28T19:30:21.827658Z",
     "shell.execute_reply": "2023-12-28T19:30:21.826736Z"
    },
    "papermill": {
     "duration": 0.306093,
     "end_time": "2023-12-28T19:30:21.829750",
     "exception": false,
     "start_time": "2023-12-28T19:30:21.523657",
     "status": "completed"
    },
    "tags": []
   },
   "outputs": [
    {
     "data": {
      "text/plain": [
       "Text(0.5, 1.0, 'Distribution of Generated Text')"
      ]
     },
     "execution_count": 6,
     "metadata": {},
     "output_type": "execute_result"
    },
    {
     "data": {
      "image/png": "[encoded data removed]",
      "text/plain": [
       "<Figure size 1200x400 with 1 Axes>"
      ]
     },
     "metadata": {},
     "output_type": "display_data"
    }
   ],
   "source": [
    "f, ax = plt.subplots(figsize=(12, 4))\n",
    "\n",
    "sns.despine()\n",
    "ax = sns.countplot(data=df_train_essays_ext,\n",
    "                   x=\"generated\")\n",
    "\n",
    "abs_values = df_train_essays_ext['generated'].value_counts().values\n",
    "\n",
    "ax.bar_label(container=ax.containers[0], labels=abs_values)\n",
    "\n",
    "ax.set_title(\"Distribution of Generated Text\")"
   ]
  },
  {
   "cell_type": "code",
   "execution_count": 7,
   "id": "48edffe6",
   "metadata": {
    "execution": {
     "iopub.execute_input": "2023-12-28T19:30:21.848740Z",
     "iopub.status.busy": "2023-12-28T19:30:21.848419Z",
     "iopub.status.idle": "2023-12-28T19:33:44.711135Z",
     "shell.execute_reply": "2023-12-28T19:33:44.710122Z"
    },
    "papermill": {
     "duration": 202.883107,
     "end_time": "2023-12-28T19:33:44.721912",
     "exception": false,
     "start_time": "2023-12-28T19:30:21.838805",
     "status": "completed"
    },
    "tags": []
   },
   "outputs": [
    {
     "name": "stdout",
     "output_type": "stream",
     "text": [
      "[nltk_data] Error loading stopwords: <urlopen error [Errno -3]\n",
      "[nltk_data]     Temporary failure in name resolution>\n",
      "[nltk_data] Error loading punkt: <urlopen error [Errno -3] Temporary\n",
      "[nltk_data]     failure in name resolution>\n",
      "<class 'pandas.core.frame.DataFrame'>\n",
      "Index: 46246 entries, 0 to 1377\n",
      "Data columns (total 2 columns):\n",
      " #   Column     Non-Null Count  Dtype \n",
      "---  ------     --------------  ----- \n",
      " 0   text       46246 non-null  object\n",
      " 1   generated  46246 non-null  int64 \n",
      "dtypes: int64(1), object(1)\n",
      "memory usage: 1.1+ MB\n"
     ]
    }
   ],
   "source": [
    "df_train_essays_final = pd.concat([df_train_essays_ext[[\"text\", \"generated\"]], df_essay[[\"text\", \"generated\"]]])\n",
    "import re # regular expression library\n",
    "import nltk\n",
    "from nltk.tokenize import word_tokenize\n",
    "from nltk.corpus import stopwords\n",
    "nltk.download('stopwords')\n",
    "nltk.download('punkt')\n",
    "def normalize(text):\n",
    "    # Replace with whitespace to separate '\\n\\nFor'\n",
    "    text = text.replace(r\"\\n\", r\" \")\n",
    "    text = text.replace(r\"\\r\", r\" \")\n",
    "    # Drop puntuation\n",
    "    text = re.sub(r'[^\\w\\s]', '', text)\n",
    "    # Remove extra spaces from '  For' to ' For'\n",
    "    text = re.sub(r\"\\s+\", r\" \", text)\n",
    "    # Remove URLs\n",
    "    text = re.sub(r'http\\S+', '', text)\n",
    "    # Remove leading and trailing whitespace\n",
    "    text = text.strip()\n",
    "    text = re.sub(r'[^a-zA-Z\\s]', '', text)\n",
    "    #lower case the all capital alphabets\n",
    "    text=text.lower()\n",
    "    stop_words = set(stopwords.words('english'))\n",
    "    word_tokens=word_tokenize(text)\n",
    "    text = ' '.join([word for word in word_tokens if word not in stop_words])\n",
    "    return text\n",
    "\n",
    "df_train_essays_final['text'] = df_train_essays_final['text'].apply(lambda x: normalize(x))\n",
    "test1['text'] = test1['text'].apply(lambda x: normalize(x))\n",
    "\n",
    "df_train_essays_final.info()"
   ]
  },
  {
   "cell_type": "code",
   "execution_count": 8,
   "id": "440d6764",
   "metadata": {
    "execution": {
     "iopub.execute_input": "2023-12-28T19:33:44.741311Z",
     "iopub.status.busy": "2023-12-28T19:33:44.740960Z",
     "iopub.status.idle": "2023-12-28T19:33:51.955247Z",
     "shell.execute_reply": "2023-12-28T19:33:51.954256Z"
    },
    "papermill": {
     "duration": 7.226393,
     "end_time": "2023-12-28T19:33:51.957659",
     "exception": false,
     "start_time": "2023-12-28T19:33:44.731266",
     "status": "completed"
    },
    "tags": []
   },
   "outputs": [],
   "source": [
    "from tensorflow.keras.preprocessing.text import Tokenizer\n",
    "tokenizer=Tokenizer()\n",
    "tokenizer.fit_on_texts(df_train_essays_final['text'])# gives a index on each word\n",
    "b1=len(tokenizer.word_index)# total no of words"
   ]
  },
  {
   "cell_type": "code",
   "execution_count": 9,
   "id": "7af0b0df",
   "metadata": {
    "execution": {
     "iopub.execute_input": "2023-12-28T19:33:51.977607Z",
     "iopub.status.busy": "2023-12-28T19:33:51.977256Z",
     "iopub.status.idle": "2023-12-28T19:33:57.055436Z",
     "shell.execute_reply": "2023-12-28T19:33:57.054380Z"
    },
    "papermill": {
     "duration": 5.090469,
     "end_time": "2023-12-28T19:33:57.057813",
     "exception": false,
     "start_time": "2023-12-28T19:33:51.967344",
     "status": "completed"
    },
    "tags": []
   },
   "outputs": [],
   "source": [
    "a=tokenizer.texts_to_sequences(df_train_essays_final['text'])\n",
    "maxi=max(len(x) for x in a)"
   ]
  },
  {
   "cell_type": "code",
   "execution_count": 10,
   "id": "e4338de0",
   "metadata": {
    "execution": {
     "iopub.execute_input": "2023-12-28T19:33:57.079164Z",
     "iopub.status.busy": "2023-12-28T19:33:57.078534Z",
     "iopub.status.idle": "2023-12-28T19:34:03.946212Z",
     "shell.execute_reply": "2023-12-28T19:34:03.945402Z"
    },
    "papermill": {
     "duration": 6.880612,
     "end_time": "2023-12-28T19:34:03.948503",
     "exception": false,
     "start_time": "2023-12-28T19:33:57.067891",
     "status": "completed"
    },
    "tags": []
   },
   "outputs": [],
   "source": [
    "from tensorflow.keras.preprocessing.sequence import pad_sequences\n",
    "a1=pad_sequences(a,maxlen=maxi,padding='post')\n",
    "\n",
    "df_train_essays_final['text']=a1.tolist()\n",
    "import numpy as np\n",
    "X = np.vstack(df_train_essays_final['text'].to_numpy())\n",
    "y=np.vstack(df_train_essays_final['generated'].to_numpy())"
   ]
  },
  {
   "cell_type": "code",
   "execution_count": 11,
   "id": "41178b7d",
   "metadata": {
    "execution": {
     "iopub.execute_input": "2023-12-28T19:34:03.968453Z",
     "iopub.status.busy": "2023-12-28T19:34:03.968111Z",
     "iopub.status.idle": "2023-12-28T19:34:03.983483Z",
     "shell.execute_reply": "2023-12-28T19:34:03.982598Z"
    },
    "papermill": {
     "duration": 0.027407,
     "end_time": "2023-12-28T19:34:03.985543",
     "exception": false,
     "start_time": "2023-12-28T19:34:03.958136",
     "status": "completed"
    },
    "tags": []
   },
   "outputs": [
    {
     "data": {
      "text/html": [
       "<div>\n",
       "<style scoped>\n",
       "    .dataframe tbody tr th:only-of-type {\n",
       "        vertical-align: middle;\n",
       "    }\n",
       "\n",
       "    .dataframe tbody tr th {\n",
       "        vertical-align: top;\n",
       "    }\n",
       "\n",
       "    .dataframe thead th {\n",
       "        text-align: right;\n",
       "    }\n",
       "</style>\n",
       "<table border=\"1\" class=\"dataframe\">\n",
       "  <thead>\n",
       "    <tr style=\"text-align: right;\">\n",
       "      <th></th>\n",
       "      <th>text</th>\n",
       "      <th>generated</th>\n",
       "    </tr>\n",
       "  </thead>\n",
       "  <tbody>\n",
       "    <tr>\n",
       "      <th>0</th>\n",
       "      <td>[59, 1103, 328, 348, 91, 79, 91, 79, 343, 53, ...</td>\n",
       "      <td>0</td>\n",
       "    </tr>\n",
       "    <tr>\n",
       "      <th>1</th>\n",
       "      <td>[327, 1089, 217, 41, 29, 2520, 1092, 1018, 438...</td>\n",
       "      <td>0</td>\n",
       "    </tr>\n",
       "    <tr>\n",
       "      <th>2</th>\n",
       "      <td>[35, 29, 2481, 1092, 348, 384, 18756, 420, 36,...</td>\n",
       "      <td>0</td>\n",
       "    </tr>\n",
       "    <tr>\n",
       "      <th>3</th>\n",
       "      <td>[59, 35, 217, 41, 29, 59, 1018, 438, 217, 166,...</td>\n",
       "      <td>0</td>\n",
       "    </tr>\n",
       "    <tr>\n",
       "      <th>4</th>\n",
       "      <td>[98, 79, 4096, 35, 409, 222, 1366, 2, 31, 437,...</td>\n",
       "      <td>0</td>\n",
       "    </tr>\n",
       "  </tbody>\n",
       "</table>\n",
       "</div>"
      ],
      "text/plain": [
       "                                                text  generated\n",
       "0  [59, 1103, 328, 348, 91, 79, 91, 79, 343, 53, ...          0\n",
       "1  [327, 1089, 217, 41, 29, 2520, 1092, 1018, 438...          0\n",
       "2  [35, 29, 2481, 1092, 348, 384, 18756, 420, 36,...          0\n",
       "3  [59, 35, 217, 41, 29, 59, 1018, 438, 217, 166,...          0\n",
       "4  [98, 79, 4096, 35, 409, 222, 1366, 2, 31, 437,...          0"
      ]
     },
     "execution_count": 11,
     "metadata": {},
     "output_type": "execute_result"
    }
   ],
   "source": [
    "df_train_essays_final.head()"
   ]
  },
  {
   "cell_type": "code",
   "execution_count": 12,
   "id": "7af6c11a",
   "metadata": {
    "execution": {
     "iopub.execute_input": "2023-12-28T19:34:04.004633Z",
     "iopub.status.busy": "2023-12-28T19:34:04.004350Z",
     "iopub.status.idle": "2023-12-28T19:34:04.110458Z",
     "shell.execute_reply": "2023-12-28T19:34:04.109464Z"
    },
    "papermill": {
     "duration": 0.118478,
     "end_time": "2023-12-28T19:34:04.112996",
     "exception": false,
     "start_time": "2023-12-28T19:34:03.994518",
     "status": "completed"
    },
    "tags": []
   },
   "outputs": [],
   "source": [
    "X_train, X_val, y_train, y_val = train_test_split(X, y, test_size=0.2, random_state = 300)"
   ]
  },
  {
   "cell_type": "code",
   "execution_count": 13,
   "id": "c94b0435",
   "metadata": {
    "execution": {
     "iopub.execute_input": "2023-12-28T19:34:04.133179Z",
     "iopub.status.busy": "2023-12-28T19:34:04.132501Z",
     "iopub.status.idle": "2023-12-28T19:34:04.136506Z",
     "shell.execute_reply": "2023-12-28T19:34:04.135645Z"
    },
    "papermill": {
     "duration": 0.016017,
     "end_time": "2023-12-28T19:34:04.138373",
     "exception": false,
     "start_time": "2023-12-28T19:34:04.122356",
     "status": "completed"
    },
    "tags": []
   },
   "outputs": [],
   "source": [
    "#tokenizer = BertTokenizer.from_pretrained('bert-base-uncased', do_lower_case=True, padding=True, truncation=True, max_length=512)"
   ]
  },
  {
   "cell_type": "code",
   "execution_count": 14,
   "id": "a6aaa2af",
   "metadata": {
    "execution": {
     "iopub.execute_input": "2023-12-28T19:34:04.157711Z",
     "iopub.status.busy": "2023-12-28T19:34:04.157067Z",
     "iopub.status.idle": "2023-12-28T19:34:04.160974Z",
     "shell.execute_reply": "2023-12-28T19:34:04.160150Z"
    },
    "papermill": {
     "duration": 0.015553,
     "end_time": "2023-12-28T19:34:04.162854",
     "exception": false,
     "start_time": "2023-12-28T19:34:04.147301",
     "status": "completed"
    },
    "tags": []
   },
   "outputs": [],
   "source": [
    "#encoded_train = tokenizer(X_train.tolist(), padding=True, truncation=True, return_tensors='pt')\n",
    "#encoded_val = tokenizer(X_val.tolist(), padding=True, truncation=True, return_tensors='pt')"
   ]
  },
  {
   "cell_type": "code",
   "execution_count": 15,
   "id": "3f58f1a2",
   "metadata": {
    "execution": {
     "iopub.execute_input": "2023-12-28T19:34:04.182910Z",
     "iopub.status.busy": "2023-12-28T19:34:04.182146Z",
     "iopub.status.idle": "2023-12-28T19:34:04.185986Z",
     "shell.execute_reply": "2023-12-28T19:34:04.185181Z"
    },
    "papermill": {
     "duration": 0.015918,
     "end_time": "2023-12-28T19:34:04.187844",
     "exception": false,
     "start_time": "2023-12-28T19:34:04.171926",
     "status": "completed"
    },
    "tags": []
   },
   "outputs": [],
   "source": [
    "#train_labels = torch.tensor(y_train.values)\n",
    "#val_labels = torch.tensor(y_val.values)"
   ]
  },
  {
   "cell_type": "code",
   "execution_count": 16,
   "id": "d462508e",
   "metadata": {
    "execution": {
     "iopub.execute_input": "2023-12-28T19:34:04.206884Z",
     "iopub.status.busy": "2023-12-28T19:34:04.206620Z",
     "iopub.status.idle": "2023-12-28T19:34:04.210458Z",
     "shell.execute_reply": "2023-12-28T19:34:04.209637Z"
    },
    "papermill": {
     "duration": 0.01558,
     "end_time": "2023-12-28T19:34:04.212425",
     "exception": false,
     "start_time": "2023-12-28T19:34:04.196845",
     "status": "completed"
    },
    "tags": []
   },
   "outputs": [],
   "source": [
    "#train_dataset = TensorDataset(encoded_train['input_ids'], encoded_train['attention_mask'], train_labels)\n",
    "#val_dataset = TensorDataset(encoded_val['input_ids'], encoded_val['attention_mask'], val_labels)"
   ]
  },
  {
   "cell_type": "code",
   "execution_count": 17,
   "id": "acb92293",
   "metadata": {
    "execution": {
     "iopub.execute_input": "2023-12-28T19:34:04.231332Z",
     "iopub.status.busy": "2023-12-28T19:34:04.231024Z",
     "iopub.status.idle": "2023-12-28T19:34:04.234734Z",
     "shell.execute_reply": "2023-12-28T19:34:04.233979Z"
    },
    "papermill": {
     "duration": 0.01519,
     "end_time": "2023-12-28T19:34:04.236470",
     "exception": false,
     "start_time": "2023-12-28T19:34:04.221280",
     "status": "completed"
    },
    "tags": []
   },
   "outputs": [],
   "source": [
    "#train_loader = DataLoader(train_dataset, batch_size=16, shuffle=True)\n",
    "#val_loader = DataLoader(val_dataset, batch_size=16, shuffle=False)"
   ]
  },
  {
   "cell_type": "code",
   "execution_count": 18,
   "id": "995112f3",
   "metadata": {
    "execution": {
     "iopub.execute_input": "2023-12-28T19:34:04.255658Z",
     "iopub.status.busy": "2023-12-28T19:34:04.255352Z",
     "iopub.status.idle": "2023-12-28T19:34:04.259217Z",
     "shell.execute_reply": "2023-12-28T19:34:04.258351Z"
    },
    "papermill": {
     "duration": 0.01565,
     "end_time": "2023-12-28T19:34:04.261073",
     "exception": false,
     "start_time": "2023-12-28T19:34:04.245423",
     "status": "completed"
    },
    "tags": []
   },
   "outputs": [],
   "source": [
    "#model = BertForSequenceClassification.from_pretrained('bert-base-uncased', num_labels=2)\n",
    "#device = torch.device(\"cuda\" if torch.cuda.is_available() else \"cpu\")\n",
    "#model.to(device)"
   ]
  },
  {
   "cell_type": "code",
   "execution_count": 19,
   "id": "bc539d4f",
   "metadata": {
    "execution": {
     "iopub.execute_input": "2023-12-28T19:34:04.280519Z",
     "iopub.status.busy": "2023-12-28T19:34:04.279965Z",
     "iopub.status.idle": "2023-12-28T19:34:04.284545Z",
     "shell.execute_reply": "2023-12-28T19:34:04.283701Z"
    },
    "papermill": {
     "duration": 0.016465,
     "end_time": "2023-12-28T19:34:04.286426",
     "exception": false,
     "start_time": "2023-12-28T19:34:04.269961",
     "status": "completed"
    },
    "tags": []
   },
   "outputs": [],
   "source": [
    "#optimizer = AdamW(model.parameters(), lr=2e-5, correct_bias=False)\n",
    "#epochs = 20\n",
    "\n",
    "#for epoch in range(epochs):\n",
    "    #model.train()\n",
    "    #total_loss = 0\n",
    "\n",
    "    #for batch in train_loader:\n",
    "        #input_ids, attention_mask, labels = batch\n",
    "        #input_ids, attention_mask, labels = input_ids.to(device), attention_mask.to(device), labels.to(device)\n",
    "\n",
    "        #optimizer.zero_grad()\n",
    "\n",
    "        #outputs = model(input_ids, attention_mask=attention_mask, labels=labels)\n",
    "        #loss = outputs.loss\n",
    "        #total_loss += loss.item()\n",
    "\n",
    "        #loss.backward()\n",
    "        #torch.nn.utils.clip_grad_norm_(model.parameters(), 1.0)  # Gradient clipping to avoid exploding gradients\n",
    "       # optimizer.step()\n",
    "\n",
    "    #avg_train_loss = total_loss / len(train_loader)\n",
    "   # print(f\"Epoch {epoch + 1}/{epochs}, Average Training Loss: {avg_train_loss:.2f}\")"
   ]
  },
  {
   "cell_type": "code",
   "execution_count": 20,
   "id": "71e677ba",
   "metadata": {
    "execution": {
     "iopub.execute_input": "2023-12-28T19:34:04.305322Z",
     "iopub.status.busy": "2023-12-28T19:34:04.305007Z",
     "iopub.status.idle": "2023-12-28T19:34:04.313854Z",
     "shell.execute_reply": "2023-12-28T19:34:04.313184Z"
    },
    "papermill": {
     "duration": 0.020523,
     "end_time": "2023-12-28T19:34:04.315760",
     "exception": false,
     "start_time": "2023-12-28T19:34:04.295237",
     "status": "completed"
    },
    "tags": []
   },
   "outputs": [],
   "source": [
    "class Positional_Embeddings(layers.Layer):\n",
    "    def __init__(self, sequence_length, vocab_size, output_dim, **kwargs):\n",
    "        super().__init__(**kwargs)\n",
    "        self.position_embeddings = layers.Embedding(\n",
    "        input_dim = sequence_length, output_dim = output_dim)\n",
    "        self.token_embeddings = layers.Embedding(\n",
    "        input_dim = vocab_size, output_dim = output_dim)    \n",
    "        self.sequence_length = sequence_length\n",
    "        self.output_dim = output_dim\n",
    "        \n",
    "    def call(self, inputs):\n",
    "        length = tf.shape(inputs)[1]\n",
    "        positions = tf.range(start = 0, limit = length, delta = 1)\n",
    "        embedded_positions = self.position_embeddings(positions)\n",
    "        inputs = self.token_embeddings(inputs)\n",
    "        return inputs + embedded_positions\n",
    "    \n",
    "    def compute_masks(self, inputs, masks = None):\n",
    "        mask = tf.reduce_any(tf.cast(inputs, \"bool\"), axis = -1)\n",
    "        return mask"
   ]
  },
  {
   "cell_type": "code",
   "execution_count": 21,
   "id": "c39c3a32",
   "metadata": {
    "execution": {
     "iopub.execute_input": "2023-12-28T19:34:04.337010Z",
     "iopub.status.busy": "2023-12-28T19:34:04.336088Z",
     "iopub.status.idle": "2023-12-28T19:34:04.344454Z",
     "shell.execute_reply": "2023-12-28T19:34:04.343723Z"
    },
    "papermill": {
     "duration": 0.021735,
     "end_time": "2023-12-28T19:34:04.346438",
     "exception": false,
     "start_time": "2023-12-28T19:34:04.324703",
     "status": "completed"
    },
    "tags": []
   },
   "outputs": [],
   "source": [
    "class TransformerEncoder(layers.Layer):\n",
    "    def __init__(self, embed_dim, dense_dim, num_heads, **kwargs):\n",
    "        super().__init__(**kwargs)\n",
    "        self.embed_dim = embed_dim\n",
    "        self.dense_dim = dense_dim\n",
    "        self.num_heads = num_heads\n",
    "        self.attention = layers.MultiHeadAttention(\n",
    "        num_heads = num_heads, key_dim = embed_dim, dropout = 0.3\n",
    "        )\n",
    "        self.dense_proj = keras.Sequential(\n",
    "        [layers.Dense(dense_dim, activation = tf.nn.gelu), layers.Dense(embed_dim),]\n",
    "        )\n",
    "        self.layernorm1 = layers.LayerNormalization()\n",
    "        self.layernorm2 = layers.LayerNormalization()\n",
    "\n",
    "        \n",
    "        \n",
    "    def call(self, inputs, mask = None):\n",
    "        if mask is not None:\n",
    "            mask = mask[:, tf.newaxis, :]\n",
    "            \n",
    "        attention_output = self.attention(inputs, inputs, attention_mask = mask)\n",
    "        proj_input = self.layernorm1(inputs + attention_output)\n",
    "        proj_output = self.dense_proj(proj_input)\n",
    "        return self.layernorm2(proj_input + proj_output)"
   ]
  },
  {
   "cell_type": "code",
   "execution_count": 22,
   "id": "2c226e79",
   "metadata": {
    "execution": {
     "iopub.execute_input": "2023-12-28T19:34:04.365696Z",
     "iopub.status.busy": "2023-12-28T19:34:04.365373Z",
     "iopub.status.idle": "2023-12-28T19:34:09.929544Z",
     "shell.execute_reply": "2023-12-28T19:34:09.928698Z"
    },
    "papermill": {
     "duration": 5.576534,
     "end_time": "2023-12-28T19:34:09.931971",
     "exception": false,
     "start_time": "2023-12-28T19:34:04.355437",
     "status": "completed"
    },
    "tags": []
   },
   "outputs": [],
   "source": [
    "embed_dim = 10\n",
    "heads = 10\n",
    "dense_dim = 32\n",
    "maxlen = maxi\n",
    "vocab_size = b1+1\n",
    "\n",
    "inputs = layers.Input(shape=(maxlen,))\n",
    "embedding_layer = Positional_Embeddings(maxlen, vocab_size, embed_dim)\n",
    "x = embedding_layer(inputs)\n",
    "transformer_block = TransformerEncoder(embed_dim, dense_dim, heads)\n",
    "x = transformer_block(x)\n",
    "x = layers.GlobalAveragePooling1D()(x)\n",
    "x = Dropout(0.30)(x)\n",
    "outputs = layers.Dense(1, activation=\"sigmoid\")(x)\n",
    "model = Model(inputs=inputs, outputs=outputs)\n",
    "\n",
    "\n",
    "model.compile(optimizer=tf.keras.optimizers.Adam(0.001), loss='binary_crossentropy', metrics=['accuracy'])"
   ]
  },
  {
   "cell_type": "code",
   "execution_count": 23,
   "id": "f97d0c8d",
   "metadata": {
    "execution": {
     "iopub.execute_input": "2023-12-28T19:34:09.953111Z",
     "iopub.status.busy": "2023-12-28T19:34:09.952312Z",
     "iopub.status.idle": "2023-12-28T19:43:54.489354Z",
     "shell.execute_reply": "2023-12-28T19:43:54.488407Z"
    },
    "papermill": {
     "duration": 584.549936,
     "end_time": "2023-12-28T19:43:54.491877",
     "exception": false,
     "start_time": "2023-12-28T19:34:09.941941",
     "status": "completed"
    },
    "tags": []
   },
   "outputs": [
    {
     "name": "stdout",
     "output_type": "stream",
     "text": [
      "Epoch 1/5\n",
      "925/925 [==============================] - 168s 173ms/step - loss: 0.1493 - accuracy: 0.9376 - val_loss: 0.0228 - val_accuracy: 0.9931\n",
      "Epoch 2/5\n",
      "925/925 [==============================] - 113s 122ms/step - loss: 0.0293 - accuracy: 0.9914 - val_loss: 0.0209 - val_accuracy: 0.9941\n",
      "Epoch 3/5\n",
      "925/925 [==============================] - 104s 113ms/step - loss: 0.0162 - accuracy: 0.9961 - val_loss: 0.0198 - val_accuracy: 0.9941\n",
      "Epoch 4/5\n",
      "925/925 [==============================] - 101s 110ms/step - loss: 0.0105 - accuracy: 0.9973 - val_loss: 0.0387 - val_accuracy: 0.9904\n",
      "Epoch 5/5\n",
      "925/925 [==============================] - 98s 106ms/step - loss: 0.0084 - accuracy: 0.9978 - val_loss: 0.0253 - val_accuracy: 0.9943\n"
     ]
    }
   ],
   "source": [
    "history = model.fit(X_train,y_train,\n",
    "                    validation_split=0.2,\n",
    "                    epochs=5,\n",
    "                    batch_size=32,\n",
    "                    )"
   ]
  },
  {
   "cell_type": "code",
   "execution_count": 24,
   "id": "113755b9",
   "metadata": {
    "execution": {
     "iopub.execute_input": "2023-12-28T19:43:55.246836Z",
     "iopub.status.busy": "2023-12-28T19:43:55.245960Z",
     "iopub.status.idle": "2023-12-28T19:43:55.586247Z",
     "shell.execute_reply": "2023-12-28T19:43:55.585439Z"
    },
    "papermill": {
     "duration": 0.716965,
     "end_time": "2023-12-28T19:43:55.588257",
     "exception": false,
     "start_time": "2023-12-28T19:43:54.871292",
     "status": "completed"
    },
    "tags": []
   },
   "outputs": [
    {
     "name": "stdout",
     "output_type": "stream",
     "text": [
      "1/1 [==============================] - 0s 283ms/step\n"
     ]
    }
   ],
   "source": [
    "test_sequences = tokenizer.texts_to_sequences(test1['text'])\n",
    "X_test_padded = pad_sequences(test_sequences, maxlen=maxi)  # Adjust maxlen based on your model\n",
    "\n",
    "# Make predictions using the trained model\n",
    "predictions = model.predict(X_test_padded)\n",
    "\n",
    "# Assuming 'id' is the column containing unique identifiers in the test set\n",
    "# Create a DataFrame to store the results\n",
    "results_df = pd.DataFrame({'id': test1['id'], 'generated': predictions.flatten()})\n",
    "\n",
    "# Save the results to a CSV file\n",
    "results_df.to_csv('submission.csv', index=False)"
   ]
  },
  {
   "cell_type": "code",
   "execution_count": 25,
   "id": "a74c9b65",
   "metadata": {
    "execution": {
     "iopub.execute_input": "2023-12-28T19:43:56.389147Z",
     "iopub.status.busy": "2023-12-28T19:43:56.388412Z",
     "iopub.status.idle": "2023-12-28T19:43:56.399935Z",
     "shell.execute_reply": "2023-12-28T19:43:56.398948Z"
    },
    "papermill": {
     "duration": 0.386913,
     "end_time": "2023-12-28T19:43:56.402052",
     "exception": false,
     "start_time": "2023-12-28T19:43:56.015139",
     "status": "completed"
    },
    "tags": []
   },
   "outputs": [
    {
     "data": {
      "text/html": [
       "<div>\n",
       "<style scoped>\n",
       "    .dataframe tbody tr th:only-of-type {\n",
       "        vertical-align: middle;\n",
       "    }\n",
       "\n",
       "    .dataframe tbody tr th {\n",
       "        vertical-align: top;\n",
       "    }\n",
       "\n",
       "    .dataframe thead th {\n",
       "        text-align: right;\n",
       "    }\n",
       "</style>\n",
       "<table border=\"1\" class=\"dataframe\">\n",
       "  <thead>\n",
       "    <tr style=\"text-align: right;\">\n",
       "      <th></th>\n",
       "      <th>id</th>\n",
       "      <th>generated</th>\n",
       "    </tr>\n",
       "  </thead>\n",
       "  <tbody>\n",
       "    <tr>\n",
       "      <th>0</th>\n",
       "      <td>0000aaaa</td>\n",
       "      <td>0.998779</td>\n",
       "    </tr>\n",
       "    <tr>\n",
       "      <th>1</th>\n",
       "      <td>1111bbbb</td>\n",
       "      <td>0.998987</td>\n",
       "    </tr>\n",
       "    <tr>\n",
       "      <th>2</th>\n",
       "      <td>2222cccc</td>\n",
       "      <td>0.998987</td>\n",
       "    </tr>\n",
       "  </tbody>\n",
       "</table>\n",
       "</div>"
      ],
      "text/plain": [
       "         id  generated\n",
       "0  0000aaaa   0.998779\n",
       "1  1111bbbb   0.998987\n",
       "2  2222cccc   0.998987"
      ]
     },
     "execution_count": 25,
     "metadata": {},
     "output_type": "execute_result"
    }
   ],
   "source": [
    "final=pd.read_csv('submission.csv')\n",
    "final.head()"
   ]
  },
  {
   "cell_type": "code",
   "execution_count": null,
   "id": "46697ba8",
   "metadata": {
    "papermill": {
     "duration": 0.373113,
     "end_time": "2023-12-28T19:43:57.186527",
     "exception": false,
     "start_time": "2023-12-28T19:43:56.813414",
     "status": "completed"
    },
    "tags": []
   },
   "outputs": [],
   "source": []
  }
 ],
 "metadata": {
  "kaggle": {
   "accelerator": "gpu",
   "dataSources": [
    {
     "databundleVersionId": 6888007,
     "sourceId": 61542,
     "sourceType": "competition"
    },
    {
     "datasetId": 4219794,
     "sourceId": 7278201,
     "sourceType": "datasetVersion"
    }
   ],
   "dockerImageVersionId": 30626,
   "isGpuEnabled": true,
   "isInternetEnabled": false,
   "language": "python",
   "sourceType": "notebook"
  },
  "kernelspec": {
   "display_name": "Python 3",
   "language": "python",
   "name": "python3"
  },
  "language_info": {
   "codemirror_mode": {
    "name": "ipython",
    "version": 3
   },
   "file_extension": ".py",
   "mimetype": "text/x-python",
   "name": "python",
   "nbconvert_exporter": "python",
   "pygments_lexer": "ipython3",
   "version": "3.10.12"
  },
  "papermill": {
   "default_parameters": {},
   "duration": 842.940115,
   "end_time": "2023-12-28T19:44:01.356680",
   "environment_variables": {},
   "exception": null,
   "input_path": "__notebook__.ipynb",
   "output_path": "__notebook__.ipynb",
   "parameters": {},
   "start_time": "2023-12-28T19:29:58.416565",
   "version": "2.4.0"
  }
 },
 "nbformat": 4,
 "nbformat_minor": 5
}
